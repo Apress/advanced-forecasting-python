{
 "cells": [
  {
   "cell_type": "markdown",
   "id": "fifth-garage",
   "metadata": {},
   "source": [
    "# Chapter 1 - Models For Forecasting"
   ]
  },
  {
   "cell_type": "markdown",
   "id": "polyphonic-trinity",
   "metadata": {},
   "source": [
    "## Listing 1-1. Getting the coffee example into Python and plotting the trend."
   ]
  },
  {
   "cell_type": "code",
   "execution_count": null,
   "id": "broke-keyboard",
   "metadata": {},
   "outputs": [],
   "source": [
    "import pandas as pd\n",
    "import matplotlib.pyplot as plt\n",
    "\n",
    "years = [1965, 1970, 1975, 1980, 1985, 1990, 1995, 2000, 2005, 2010, 2015, 2020]\n",
    "prices = [1.00, 1.20, 1.40, 1.60, 1.80, 2.00, 2.20, 2.40, 2.60, 2.80, 3.00, 3.20]\n",
    "\n",
    "data = pd.DataFrame({\n",
    "    'year' : years,\n",
    "    'prices': prices\n",
    "})\n",
    "ax = data.plot.line(x='year')\n",
    "ax.set_title('Coffee Price Over Time', fontsize=16)\n",
    "plt.show()\n"
   ]
  },
  {
   "cell_type": "markdown",
   "id": "twelve-shipping",
   "metadata": {},
   "source": [
    "## Listing 1-2. Getting the hot chocolate example into Python and plotting the trend."
   ]
  },
  {
   "cell_type": "code",
   "execution_count": null,
   "id": "apparent-jesus",
   "metadata": {},
   "outputs": [],
   "source": [
    "seasons = [\"Spring 2018\", \"Summer 2018\", \"Autumn 2018\", \"Winter 2018\",\n",
    "           \"Spring 2019\", \"Summer 2019\", \"Autumn 2019\", \"Winter 2019\",\n",
    "           \"Spring 2020\", \"Summer 2020\", \"Autumn 2020\", \"Winter 2020\"]\n",
    "prices = [2.80, 2.60, 3.00, 3.20,\n",
    "          2.80, 2.60, 3.00, 3.20,\n",
    "          2.80, 2.60, 3.00, 3.20]\n",
    "\n",
    "data = pd.DataFrame({\n",
    "    'season': seasons,\n",
    "    'price': prices\n",
    "})\n",
    "\n",
    "ax = data.plot.line(x='season')\n",
    "ax.set_title('Hot Chocolate Price Over Time', fontsize=16)\n",
    "ax.set_xticklabels(ax.get_xticklabels(), rotation=45, ha='right')\n",
    "plt.show()\n"
   ]
  },
  {
   "cell_type": "markdown",
   "id": "joint-opera",
   "metadata": {},
   "source": [
    "## Listing 1-3. Getting the quarterly sales example into Python and plotting the trend."
   ]
  },
  {
   "cell_type": "code",
   "execution_count": null,
   "id": "entertaining-conjunction",
   "metadata": {},
   "outputs": [],
   "source": [
    "quarters = [\"Q1 2018\", \"Q2 2018\", \"Q3 2018\", \"Q4 2018\",\n",
    "            \"Q1 2019\", \"Q2 2019\", \"Q3 2019\", \"Q4 2019\",\n",
    "            \"Q1 2020\", \"Q2 2020\", \"Q3 2020\", \"Q4 2020\"]\n",
    "\n",
    "sales = [48, 20, 42, 32,\n",
    "         16, 58, 40, 30,\n",
    "         32, 31, 53, 40]\n",
    "\n",
    "\n",
    "data = pd.DataFrame({\n",
    "    'quarter': quarters,\n",
    "    'sales': sales\n",
    "})\n",
    "\n",
    "ax = data.plot.line(x='quarter')\n",
    "ax.set_title('Sales Per Quarter', fontsize=16)\n",
    "ax.set_xticklabels(ax.get_xticklabels(), rotation=45, ha='right')\n",
    "plt.show()\n"
   ]
  },
  {
   "cell_type": "markdown",
   "id": "supreme-policy",
   "metadata": {},
   "source": [
    "## Listing 1-4. Getting the quarterly sales example into Python and plotting the trend."
   ]
  },
  {
   "cell_type": "code",
   "execution_count": null,
   "id": "irish-stranger",
   "metadata": {},
   "outputs": [],
   "source": [
    "quarters = [\"Q1 2018\", \"Q2 2018\", \"Q3 2018\", \"Q4 2018\",\n",
    "            \"Q1 2019\", \"Q2 2019\", \"Q3 2019\", \"Q4 2019\",\n",
    "            \"Q1 2020\", \"Q2 2020\", \"Q3 2020\", \"Q4 2020\"]\n",
    "\n",
    "sales = [48, 20, 42, 32,\n",
    "         16, 58, 40, 30,\n",
    "         32, 31, 53, 40]\n",
    "\n",
    "discounts = [4,2,3,\n",
    "             3,2,6,\n",
    "             4,3,3,\n",
    "             3,6,6]\n",
    "\n",
    "advertising = [500,150,400,\n",
    "               300,100,500,\n",
    "               380,280,290,\n",
    "               315,625,585]\n",
    "\n",
    "data = pd.DataFrame({\n",
    "    'quarter': quarters,\n",
    "    'sales': sales,\n",
    "    'discount': discounts,\n",
    "    'advertising': advertising\n",
    "})\n",
    "\n",
    "ax = data.plot.line(x='quarter')\n",
    "ax.set_title('Sales Per Quarter', fontsize=16)\n",
    "ax.set_xticklabels(ax.get_xticklabels(), rotation=45, ha='right')\n",
    "plt.show()\n"
   ]
  },
  {
   "cell_type": "markdown",
   "id": "golden-chinese",
   "metadata": {},
   "source": [
    "## Listing 1-5. Zooming in on the correlated variables of the Quarterly Sales example."
   ]
  },
  {
   "cell_type": "code",
   "execution_count": null,
   "id": "visible-royal",
   "metadata": {},
   "outputs": [],
   "source": [
    "quarters = [\"Q1 2018\", \"Q2 2018\", \"Q3 2018\", \"Q4 2018\",\n",
    "            \"Q1 2019\", \"Q2 2019\", \"Q3 2019\", \"Q4 2019\",\n",
    "            \"Q1 2020\", \"Q2 2020\", \"Q3 2020\", \"Q4 2020\"]\n",
    "\n",
    "sales = [48, 20, 42, 32,\n",
    "         16, 58, 40, 30,\n",
    "         32, 31, 53, 40]\n",
    "\n",
    "discounts = [4,2,3,\n",
    "             3,2,6,\n",
    "             4,3,3,\n",
    "             3,6,6]\n",
    "\n",
    "discounts_scale_adjusted = [x * 10 for x in discounts]\n",
    "\n",
    "advertising = [500,150,400,\n",
    "               300,100,500,\n",
    "               380,280,290,\n",
    "               315,625,585]\n",
    "\n",
    "advertising_scale_adjusted = [x / 10 for x in advertising]\n",
    "\n",
    "data = pd.DataFrame({\n",
    "    'quarter': quarters,\n",
    "    'sales': sales,\n",
    "    'discount': discounts_scale_adjusted,\n",
    "    'advertising': advertising_scale_adjusted\n",
    "})\n",
    "\n",
    "ax = data.plot.line(x='quarter')\n",
    "ax.set_title('Sales Per Quarter', fontsize=16)\n",
    "ax.set_xticklabels(ax.get_xticklabels(), rotation=45, ha='right')\n",
    "plt.show()\n"
   ]
  },
  {
   "cell_type": "markdown",
   "id": "prospective-insert",
   "metadata": {},
   "source": [
    "## Listing 1-6. Getting the quarterly sales example into Python and plotting the trend."
   ]
  },
  {
   "cell_type": "code",
   "execution_count": null,
   "id": "forced-herald",
   "metadata": {},
   "outputs": [],
   "source": [
    "data.corr()"
   ]
  }
 ],
 "metadata": {
  "kernelspec": {
   "display_name": "Python 3",
   "language": "python",
   "name": "python3"
  },
  "language_info": {
   "codemirror_mode": {
    "name": "ipython",
    "version": 3
   },
   "file_extension": ".py",
   "mimetype": "text/x-python",
   "name": "python",
   "nbconvert_exporter": "python",
   "pygments_lexer": "ipython3",
   "version": "3.6.13"
  }
 },
 "nbformat": 4,
 "nbformat_minor": 5
}
