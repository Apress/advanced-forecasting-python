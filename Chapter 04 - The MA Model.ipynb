{
 "cells": [
  {
   "cell_type": "markdown",
   "id": "driving-processing",
   "metadata": {},
   "source": [
    "# Chapter 4 - The MA Model"
   ]
  },
  {
   "cell_type": "markdown",
   "id": "numeric-closing",
   "metadata": {},
   "source": [
    "## Listing 4-1. Importing Stock Price data using Yahoo Finance package"
   ]
  },
  {
   "cell_type": "code",
   "execution_count": null,
   "id": "other-ending",
   "metadata": {},
   "outputs": [],
   "source": [
    "from pandas_datareader import data as pdr\n",
    "import yfinance\n",
    "\n",
    "data = pdr.get_data_yahoo('MSFT', start='2019-01-01', end='2019-12-31')\n",
    "data = data['Close']\n"
   ]
  },
  {
   "cell_type": "markdown",
   "id": "better-snake",
   "metadata": {},
   "source": [
    "## Listing 4-2. Plotting the Stock Price data "
   ]
  },
  {
   "cell_type": "code",
   "execution_count": null,
   "id": "regular-huntington",
   "metadata": {},
   "outputs": [],
   "source": [
    "import matplotlib.pyplot as plt\n",
    "ax = data.plot()\n",
    "ax.set_ylabel(\"Stock Price\")\n",
    "plt.show()\n"
   ]
  },
  {
   "cell_type": "markdown",
   "id": "muslim-julian",
   "metadata": {},
   "source": [
    "## Listing 4-3. Computing the differenced data and plotting it"
   ]
  },
  {
   "cell_type": "code",
   "execution_count": null,
   "id": "packed-algorithm",
   "metadata": {},
   "outputs": [],
   "source": [
    "# Need to difference\n",
    "data = data.diff().dropna()\n",
    "ax = data.plot()\n",
    "ax.set_ylabel(\"Daily Difference in Stock Price\")\n",
    "plt.show()\n"
   ]
  },
  {
   "cell_type": "markdown",
   "id": "completed-lounge",
   "metadata": {},
   "source": [
    "## Listing 4-4. Applying an ADF test to the differenced data "
   ]
  },
  {
   "cell_type": "code",
   "execution_count": null,
   "id": "thermal-jumping",
   "metadata": {},
   "outputs": [],
   "source": [
    "from statsmodels.tsa.stattools import adfuller\n",
    "result = adfuller(data)\n",
    "pvalue = result[1]\n",
    "if pvalue < 0.05:\n",
    "    print('stationary')\n",
    "else:\n",
    "    print('not stationary')\n"
   ]
  },
  {
   "cell_type": "markdown",
   "id": "allied-delhi",
   "metadata": {},
   "source": [
    "## Listing 4-5. Plotting the Autocorrelation Function and the Partial Autocorrelation Function"
   ]
  },
  {
   "cell_type": "code",
   "execution_count": null,
   "id": "thorough-graphic",
   "metadata": {},
   "outputs": [],
   "source": [
    "from statsmodels.graphics.tsaplots import plot_acf, plot_pacf\n",
    "plot_acf(data, lags=20)\n",
    "plot_pacf(data, lags=20)\n",
    "plt.show()\n"
   ]
  },
  {
   "cell_type": "markdown",
   "id": "perfect-novelty",
   "metadata": {},
   "source": [
    "## Listing 4-6. Fitting the MA model and plotting the forecast"
   ]
  },
  {
   "cell_type": "code",
   "execution_count": null,
   "id": "growing-potential",
   "metadata": {},
   "outputs": [],
   "source": [
    "from sklearn.metrics import r2_score\n",
    "from statsmodels.tsa.arima.model import ARIMA\n",
    "\n",
    "# Forecast the first MA(1) model\n",
    "mod = ARIMA(data.diff().dropna(), order=(0,0,1))\n",
    "res = mod.fit()\n",
    "\n",
    "orig_data = data.diff().dropna()\n",
    "pred = res.predict()\n",
    "\n",
    "plt.plot(orig_data)\n",
    "plt.plot(pred)\n",
    "plt.show()\n",
    "\n",
    "print(r2_score(orig_data, pred))\n"
   ]
  },
  {
   "cell_type": "markdown",
   "id": "delayed-passage",
   "metadata": {},
   "source": [
    "## Listing 4-7. Fitting the MA model on train data and evaluation the R2 score on train and test data"
   ]
  },
  {
   "cell_type": "code",
   "execution_count": null,
   "id": "literary-sugar",
   "metadata": {},
   "outputs": [],
   "source": [
    "train = data.diff().dropna()[0:240]\n",
    "test = data.diff().dropna()[240:250]\n",
    "\n",
    "# Forecast the first MA(1) model\n",
    "mod = ARIMA(train, order=(0,0,1))\n",
    "res = mod.fit()\n",
    "\n",
    "orig_data = data.diff().dropna()\n",
    "pred = res.predict()\n",
    "fcst = res.forecast(steps = len(test))\n",
    "\n",
    "print(r2_score(train, pred))\n",
    "print(r2_score(test, fcst))\n"
   ]
  },
  {
   "cell_type": "markdown",
   "id": "handed-seafood",
   "metadata": {},
   "source": [
    "## Listing 4-8. Plotting the out of sample forecast of the MA(1) model (MA with order 1)"
   ]
  },
  {
   "cell_type": "code",
   "execution_count": null,
   "id": "unknown-enlargement",
   "metadata": {},
   "outputs": [],
   "source": [
    "plt.plot(list(test))\n",
    "plt.plot(list(fcst))\n",
    "plt.legend(['Actual Prices', 'Predicted Prices'])\n",
    "plt.show()\n"
   ]
  },
  {
   "cell_type": "markdown",
   "id": "centered-barrier",
   "metadata": {},
   "source": [
    "## Listing 4-9. Estimating the error of the MA(1) model for 10 refitted one-step forecasts"
   ]
  },
  {
   "cell_type": "code",
   "execution_count": null,
   "id": "flying-denmark",
   "metadata": {},
   "outputs": [],
   "source": [
    "import pandas as pd\n",
    "train = data.diff().dropna()[0:240]\n",
    "test = data.diff().dropna()[240:250]\n",
    "\n",
    "# Import the ARMA module from statsmodels\n",
    "from statsmodels.tsa.arima.model import ARIMA\n",
    "fcst = []\n",
    "for step in range(len(test)):\n",
    "    # Forecast the first MA(1) model\n",
    "    mod = ARIMA(train.reset_index(drop=True), order=(0,0,1))\n",
    "    res = mod.fit()\n",
    "    orig_data = data.diff().dropna()\n",
    "    pred = res.predict()\n",
    "    fcst += list(res.forecast(steps = 1))\n",
    "    train = train.append(pd.Series(test[step]))\n",
    "print(r2_score(list(test), fcst))\n",
    "plt.plot(list(test))\n",
    "plt.plot(fcst)\n",
    "plt.legend(['Actual Prices', 'Predicted Prices'])\n",
    "plt.show()\n"
   ]
  },
  {
   "cell_type": "markdown",
   "id": "packed-moldova",
   "metadata": {},
   "source": [
    "## Listing 4-10. Grid search to obtain the MA order that optimizes forecasting R2"
   ]
  },
  {
   "cell_type": "code",
   "execution_count": null,
   "id": "advance-expression",
   "metadata": {},
   "outputs": [],
   "source": [
    "def evaluate2(order):\n",
    "    train = data.diff().dropna()[0:240]\n",
    "    test = data.diff().dropna()[240:250]\n",
    "    \n",
    "    fcst = []\n",
    "    for step in range(len(test)):\n",
    "        # Forecast the first MA(1) model\n",
    "        mod = ARIMA(train.reset_index(drop=True), order=(0,0,order))\n",
    "        res = mod.fit()\n",
    "        orig_data = data.diff().dropna()\n",
    "        pred = res.predict()\n",
    "        fcst += list(res.forecast(steps = 1))\n",
    "        train = train.append(pd.Series(test[step]))\n",
    "\n",
    "    return r2_score(list(test), fcst)\n",
    "\n",
    "scores = []\n",
    "for i in range(1, 21):\n",
    "    scores.append((i, evaluate2(i)))\n",
    "    \n",
    "# observe best order is 4 with R2 of 0.566\n",
    "scores = pd.DataFrame(scores)\n",
    "print(scores[scores[1] == scores.max()[1]])\n"
   ]
  },
  {
   "cell_type": "markdown",
   "id": "built-moisture",
   "metadata": {},
   "source": [
    "## Listing 4-11. Obtaining the final forecast"
   ]
  },
  {
   "cell_type": "code",
   "execution_count": null,
   "id": "increasing-testament",
   "metadata": {},
   "outputs": [],
   "source": [
    "train = data.diff().dropna()[0:240]\n",
    "test = data.diff().dropna()[240:250]\n",
    "\n",
    "fcst = []\n",
    "for step in range(len(test)):\n",
    "    # Forecast the first MA(1) model\n",
    "    mod = ARIMA(train.reset_index(drop=True), order=(0,0,4))\n",
    "    res = mod.fit()\n",
    "\n",
    "\n",
    "    orig_data = data.diff().dropna()\n",
    "    pred = res.predict()\n",
    "\n",
    "    fcst += list(res.forecast(steps = 1))\n",
    "\n",
    "    train = train.append(pd.Series(test[step]))\n",
    "\n",
    "print(r2_score(list(test), fcst))\n",
    "\n",
    "plt.plot(list(test))\n",
    "plt.plot(fcst)\n",
    "plt.legend(['Actual Prices', 'Forecasted Prices'])\n",
    "plt.show()\n"
   ]
  }
 ],
 "metadata": {
  "kernelspec": {
   "display_name": "Python 3",
   "language": "python",
   "name": "python3"
  },
  "language_info": {
   "codemirror_mode": {
    "name": "ipython",
    "version": 3
   },
   "file_extension": ".py",
   "mimetype": "text/x-python",
   "name": "python",
   "nbconvert_exporter": "python",
   "pygments_lexer": "ipython3",
   "version": "3.6.13"
  }
 },
 "nbformat": 4,
 "nbformat_minor": 5
}
