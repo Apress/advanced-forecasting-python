{
 "cells": [
  {
   "cell_type": "markdown",
   "id": "lined-resort",
   "metadata": {},
   "source": [
    "# Chapter 5 - The ARMA Model"
   ]
  },
  {
   "cell_type": "markdown",
   "id": "common-spain",
   "metadata": {},
   "source": [
    "## Listing 5-1. Getting the Sunspot data into Python"
   ]
  },
  {
   "cell_type": "code",
   "execution_count": null,
   "id": "utility-strength",
   "metadata": {},
   "outputs": [],
   "source": [
    "import pandas as pd\n",
    "data = pd.read_csv('Ch05_Sunspots_database.csv', usecols = [1, 2])\n"
   ]
  },
  {
   "cell_type": "markdown",
   "id": "solid-lindsay",
   "metadata": {},
   "source": [
    "## Listing 5-2. Aggregating the sunspot data to yearly data"
   ]
  },
  {
   "cell_type": "code",
   "execution_count": null,
   "id": "controlled-athens",
   "metadata": {},
   "outputs": [],
   "source": [
    "data['year'] = data.Date.apply(lambda x: x[:4])\n",
    "data = data[['Monthly Mean Total Sunspot Number', 'year']].groupby('year').sum()\n",
    "data.head()\n"
   ]
  },
  {
   "cell_type": "markdown",
   "id": "renewable-ground",
   "metadata": {},
   "source": [
    "## Listing 5-3. Plotting the yearly sunspot data"
   ]
  },
  {
   "cell_type": "code",
   "execution_count": null,
   "id": "printable-planning",
   "metadata": {},
   "outputs": [],
   "source": [
    "import matplotlib.pyplot as plt\n",
    "ax = data.plot()\n",
    "ax.set_ylabel('Sunspots')\n",
    "plt.show()\n"
   ]
  },
  {
   "cell_type": "markdown",
   "id": "higher-fairy",
   "metadata": {},
   "source": [
    "## Listing 5-4. Applying the ADF test to the sunspot yearly totals"
   ]
  },
  {
   "cell_type": "code",
   "execution_count": null,
   "id": "dietary-fetish",
   "metadata": {},
   "outputs": [],
   "source": [
    "from statsmodels.tsa.stattools import adfuller\n",
    "\n",
    "result = adfuller(data['Monthly Mean Total Sunspot Number'])\n",
    "print(result)\n",
    "\n",
    "pvalue = result[1]\n",
    "\n",
    "if pvalue < 0.05:\n",
    "    print('stationary')\n",
    "else:\n",
    "    print('not stationary')\n"
   ]
  },
  {
   "cell_type": "markdown",
   "id": "circular-theory",
   "metadata": {},
   "source": [
    "## Listing 5-7. Creating the ACF and PACF plots"
   ]
  },
  {
   "cell_type": "code",
   "execution_count": null,
   "id": "other-illinois",
   "metadata": {},
   "outputs": [],
   "source": [
    "from statsmodels.graphics.tsaplots import plot_acf, plot_pacf\n",
    "import matplotlib.pyplot as plt\n",
    "\n",
    "plot_acf(data['Monthly Mean Total Sunspot Number'], lags=40)\n",
    "\n",
    "plot_pacf(data['Monthly Mean Total Sunspot Number'], lags=40)\n",
    "\n",
    "plt.show()\n"
   ]
  },
  {
   "cell_type": "markdown",
   "id": "processed-dairy",
   "metadata": {},
   "source": [
    "## Listing 5-8. Fitting the ARMA(1,1) model"
   ]
  },
  {
   "cell_type": "code",
   "execution_count": null,
   "id": "conscious-religion",
   "metadata": {},
   "outputs": [],
   "source": [
    "from sklearn.metrics import r2_score\n",
    "from statsmodels.tsa.arima.model import ARIMA\n",
    "\n",
    "# Forecast the first ARMA(1,1) model\n",
    "mod = ARIMA(list(data['Monthly Mean Total Sunspot Number']), order=(1,0,1))\n",
    "res = mod.fit()\n",
    "pred = res.predict()\n",
    "print(r2_score(data, pred))\n",
    "\n",
    "plt.plot(list(data['Monthly Mean Total Sunspot Number']))\n",
    "plt.plot(pred)\n",
    "plt.legend(['Actual Sunspots', 'Predicted Sunspots'])\n",
    "plt.xlabel('Timesteps')\n",
    "plt.show()\n"
   ]
  },
  {
   "cell_type": "markdown",
   "id": "thrown-armor",
   "metadata": {},
   "source": [
    "## Listing 5-9. Plotting a histrogram of the residuals"
   ]
  },
  {
   "cell_type": "code",
   "execution_count": null,
   "id": "unique-launch",
   "metadata": {},
   "outputs": [],
   "source": [
    "ax = pd.Series(res.resid).hist()\n",
    "ax.set_ylabel('Number of occurences')\n",
    "ax.set_xlabel('Residual')\n",
    "plt.show()\n"
   ]
  },
  {
   "cell_type": "markdown",
   "id": "disabled-peoples",
   "metadata": {},
   "source": [
    "## Listing 5-10. Obtaining the summary table of your model’s fit"
   ]
  },
  {
   "cell_type": "code",
   "execution_count": null,
   "id": "dangerous-singer",
   "metadata": {},
   "outputs": [],
   "source": [
    "res.summary()"
   ]
  },
  {
   "cell_type": "markdown",
   "id": "chief-pavilion",
   "metadata": {},
   "source": [
    "## Listing 5-11. Grid search with cross-validation for optimal p and q"
   ]
  },
  {
   "cell_type": "code",
   "execution_count": null,
   "id": "matched-costume",
   "metadata": {},
   "outputs": [],
   "source": [
    "import numpy as np\n",
    "from sklearn.model_selection import TimeSeriesSplit\n",
    "data_array = data.values\n",
    "\n",
    "avg_errors = []\n",
    "\n",
    "for p in range(13):\n",
    "    for q in range(13):\n",
    "        \n",
    "        errors = []\n",
    "        \n",
    "        tscv = TimeSeriesSplit(test_size=10)\n",
    "        \n",
    "        for train_index, test_index in tscv.split(data_array):\n",
    "            \n",
    "            X_train, X_test = data_array[train_index], data_array[test_index]\n",
    "            X_test_orig = X_test\n",
    "            \n",
    "            fcst = []\n",
    "            for step in range(10):\n",
    "                \n",
    "                try:\n",
    "                    mod = ARIMA(X_train, order=(p,0,q))\n",
    "                    res = mod.fit()\n",
    "\n",
    "                    fcst.append(res.forecast(steps=1))\n",
    "                    \n",
    "                except:\n",
    "                    print('errorred')\n",
    "                    fcst.append(-9999999.)\n",
    "\n",
    "                X_train = np.concatenate((X_train, X_test[0:1,:]))\n",
    "                X_test = X_test[1:]\n",
    "                \n",
    "            errors.append(r2_score(X_test_orig, fcst))\n",
    "            \n",
    "        pq_result = [p, q, np.mean(errors)]\n",
    "        \n",
    "        print(pq_result)\n",
    "        avg_errors.append(pq_result)\n",
    "\n",
    "avg_errors = pd.DataFrame(avg_errors)\n",
    "avg_errors.columns = ['p', 'q', 'error']\n",
    "result = avg_errors.pivot(index='p', columns='q')\n"
   ]
  },
  {
   "cell_type": "markdown",
   "id": "processed-edwards",
   "metadata": {},
   "source": [
    "## Listing 5-12. Showing the test prediction of the final model"
   ]
  },
  {
   "cell_type": "code",
   "execution_count": null,
   "id": "designing-scheduling",
   "metadata": {},
   "outputs": [],
   "source": [
    "data_array = data.values\n",
    "X_train, X_test = data_array[:-10], data_array[-10:]\n",
    "X_test_orig = X_test\n",
    "\n",
    "fcst = []\n",
    "for step in range(10):\n",
    "    mod = ARIMA(X_train, order=(10,0,9))\n",
    "    res = mod.fit()\n",
    "    fcst.append(res.forecast(steps=1))\n",
    "    X_train = np.concatenate((X_train, X_test[0:1,:]))\n",
    "    X_test = X_test[1:]\n",
    "\n",
    "plt.plot(X_test_orig)\n",
    "plt.plot(fcst)\n",
    "plt.legend(['Actual Sunspots', 'Predicted Sunspots'])\n",
    "plt.xlabel('Time steps of test data')\n",
    "plt.show()\n"
   ]
  }
 ],
 "metadata": {
  "kernelspec": {
   "display_name": "Python 3",
   "language": "python",
   "name": "python3"
  },
  "language_info": {
   "codemirror_mode": {
    "name": "ipython",
    "version": 3
   },
   "file_extension": ".py",
   "mimetype": "text/x-python",
   "name": "python",
   "nbconvert_exporter": "python",
   "pygments_lexer": "ipython3",
   "version": "3.6.13"
  }
 },
 "nbformat": 4,
 "nbformat_minor": 5
}
