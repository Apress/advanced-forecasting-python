{
 "cells": [
  {
   "cell_type": "markdown",
   "id": "unauthorized-chorus",
   "metadata": {},
   "source": [
    "# Chapter 6 - The ARIMA Model"
   ]
  },
  {
   "cell_type": "markdown",
   "id": "protected-cheat",
   "metadata": {},
   "source": [
    "## Listing 6-1. Importing the data"
   ]
  },
  {
   "cell_type": "code",
   "execution_count": null,
   "id": "environmental-input",
   "metadata": {},
   "outputs": [],
   "source": [
    "import statsmodels.api as sm\n",
    "data = sm.datasets.co2.load_pandas()\n",
    "data = data.data\n",
    "data.head()\n"
   ]
  },
  {
   "cell_type": "markdown",
   "id": "acceptable-experiment",
   "metadata": {},
   "source": [
    "## Listing 6-2. Importing the data"
   ]
  },
  {
   "cell_type": "code",
   "execution_count": null,
   "id": "racial-product",
   "metadata": {},
   "outputs": [],
   "source": [
    "import matplotlib.pyplot as plt\n",
    "ax = data.plot()\n",
    "ax.set_ylabel('CO2 level')\n",
    "plt.show()\n"
   ]
  },
  {
   "cell_type": "markdown",
   "id": "surface-camera",
   "metadata": {},
   "source": [
    "## Listing 6-3. ACF and PACF plots"
   ]
  },
  {
   "cell_type": "code",
   "execution_count": null,
   "id": "rocky-springfield",
   "metadata": {},
   "outputs": [],
   "source": [
    "from statsmodels.graphics.tsaplots import plot_acf, plot_pacf\n",
    "plot_acf(data.diff().dropna(), lags=40)\n",
    "plot_pacf(data.diff().dropna(), lags=40)\n",
    "plt.show()\n"
   ]
  },
  {
   "cell_type": "markdown",
   "id": "outside-manitoba",
   "metadata": {},
   "source": [
    "## Listing 6-4. ACF and PACF plots with more lags"
   ]
  },
  {
   "cell_type": "code",
   "execution_count": null,
   "id": "maritime-motorcycle",
   "metadata": {},
   "outputs": [],
   "source": [
    "plot_acf(data.diff().dropna(), lags=600)\n",
    "plot_pacf(data.diff().dropna(), lags=600)\n",
    "plt.show()\n"
   ]
  },
  {
   "cell_type": "markdown",
   "id": "accepted-recording",
   "metadata": {},
   "source": [
    "## Listing 6-5. Hyperparameter tuning"
   ]
  },
  {
   "cell_type": "code",
   "execution_count": null,
   "id": "exact-generator",
   "metadata": {},
   "outputs": [],
   "source": [
    "import pandas as pd\n",
    "from statsmodels.tsa.arima.model import ARIMA\n",
    "from sklearn.metrics import r2_score\n",
    "import numpy as np\n",
    "from sklearn.model_selection import TimeSeriesSplit\n",
    "data_array = data[['co2']].values\n",
    "\n",
    "avg_errors = []\n",
    "\n",
    "for p in range(6):\n",
    "    for q in range(6):\n",
    "        for i in range(3):\n",
    "            errors = []\n",
    "\n",
    "            tscv = TimeSeriesSplit(test_size=10)\n",
    "\n",
    "            for train_index, test_index in tscv.split(data_array):\n",
    "\n",
    "                X_train, X_test = data_array[train_index], data_array[test_index]\n",
    "                X_test_orig = X_test\n",
    "\n",
    "                fcst = []\n",
    "                for step in range(10):\n",
    "\n",
    "                    try:\n",
    "                        mod = ARIMA(X_train, order=(p,i,q))\n",
    "                        res = mod.fit()\n",
    "\n",
    "                        fcst.append(res.forecast(steps=1))\n",
    "\n",
    "                    except:\n",
    "                        print('errorred')\n",
    "                        fcst.append(-9999999.)\n",
    "\n",
    "                    X_train = np.concatenate((X_train, X_test[0:1,:]))\n",
    "                    X_test = X_test[1:]\n",
    "\n",
    "                errors.append(r2_score(X_test_orig, fcst))\n",
    "\n",
    "            pq_result = [p, i, q, np.mean(errors)]\n",
    "\n",
    "            print(pq_result)\n",
    "            avg_errors.append(pq_result)\n",
    "\n",
    "avg_errors = pd.DataFrame(avg_errors)\n",
    "avg_errors.columns = ['p', 'i', 'q', 'error']\n",
    "avg_errors.sort_values('error', ascending=False)\n"
   ]
  },
  {
   "cell_type": "markdown",
   "id": "outstanding-bleeding",
   "metadata": {},
   "source": [
    "## Listing 6-6. Plot the final result"
   ]
  },
  {
   "cell_type": "code",
   "execution_count": null,
   "id": "proud-charm",
   "metadata": {},
   "outputs": [],
   "source": [
    "X_train, X_test = data_array[:-10], data_array[-10:]\n",
    "X_test_orig = X_test\n",
    "\n",
    "fcst = []\n",
    "for step in range(10):\n",
    "\n",
    "    mod = ARIMA(X_train, order=(4,1,4))\n",
    "    res = mod.fit()\n",
    "    fcst.append(res.forecast(steps=1))\n",
    "    X_train = np.concatenate((X_train, X_test[0:1,:]))\n",
    "    X_test = X_test[1:]\n",
    "    \n",
    "plt.plot(fcst)\n",
    "plt.plot(X_test_orig)\n",
    "plt.legend(['Predicted', 'Actual'])\n",
    "plt.ylabel('CO2 Level')\n",
    "plt.xlabel('Time Step of Test Data')\n",
    "plt.show()\n"
   ]
  }
 ],
 "metadata": {
  "kernelspec": {
   "display_name": "Python 3",
   "language": "python",
   "name": "python3"
  },
  "language_info": {
   "codemirror_mode": {
    "name": "ipython",
    "version": 3
   },
   "file_extension": ".py",
   "mimetype": "text/x-python",
   "name": "python",
   "nbconvert_exporter": "python",
   "pygments_lexer": "ipython3",
   "version": "3.6.13"
  }
 },
 "nbformat": 4,
 "nbformat_minor": 5
}
