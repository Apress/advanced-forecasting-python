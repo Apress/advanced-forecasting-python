{
 "cells": [
  {
   "cell_type": "markdown",
   "id": "aerial-escape",
   "metadata": {},
   "source": [
    "# Chapter 7 - The SARIMA Model"
   ]
  },
  {
   "cell_type": "markdown",
   "id": "tough-cross",
   "metadata": {},
   "source": [
    "## Listing 7-1. Importing the data and creating a plot"
   ]
  },
  {
   "cell_type": "code",
   "execution_count": null,
   "id": "worse-chance",
   "metadata": {},
   "outputs": [],
   "source": [
    "import pandas as pd\n",
    "import matplotlib.pyplot as plt\n",
    "data = pd.read_csv('train.csv')\n",
    "data = data.groupby('Date').sum()\n",
    "ax = data['Weekly_Sales'].plot()\n",
    "ax.set_ylabel('Weekly sales')\n",
    "plt.gcf().autofmt_xdate()\n",
    "plt.show()\n"
   ]
  },
  {
   "cell_type": "markdown",
   "id": "caring-remains",
   "metadata": {},
   "source": [
    "## Listing 7-2. Fitting a SARIMA(1,1,1)(1,1,1)52 model"
   ]
  },
  {
   "cell_type": "code",
   "execution_count": null,
   "id": "equal-bandwidth",
   "metadata": {},
   "outputs": [],
   "source": [
    "import random\n",
    "random.seed(12345)\n",
    "import statsmodels.api as sm\n",
    "from sklearn.metrics import r2_score\n",
    "\n",
    "train = data['Weekly_Sales'][:-10]\n",
    "test = data['Weekly_Sales'][-10:]\n",
    "mod = sm.tsa.statespace.SARIMAX(data['Weekly_Sales'][:-10], order=(1,1,1), seasonal_order=(1,1,1,52))\n",
    "res = mod.fit(disp=False)\n",
    "fcst = res.forecast(steps=10)\n",
    "\n",
    "plt.plot(list(test))\n",
    "plt.plot(list(fcst))\n",
    "plt.legend(['Actual data', 'Forecast'])\n",
    "plt.ylabel('Sales')\n",
    "plt.xlabel('Test Data Time Step')\n",
    "plt.show() \n",
    "r2_score(test, fcst)\n",
    "\n"
   ]
  },
  {
   "cell_type": "markdown",
   "id": "pressing-messenger",
   "metadata": {},
   "source": [
    "## Listing 7-3. Fitting a SARIMA(1,1,1)(1,1,1)52 model"
   ]
  },
  {
   "cell_type": "code",
   "execution_count": null,
   "id": "infrared-courage",
   "metadata": {},
   "outputs": [],
   "source": [
    "scores = []\n",
    "for p in range(2):\n",
    "    for i in range(2):\n",
    "        for q in range(2):\n",
    "            for P in range(2):\n",
    "                for D in range(2):\n",
    "                    for Q in range(2):\n",
    "\n",
    "                        try:\n",
    "                            mod = sm.tsa.statespace.SARIMAX(train, order=(p,0,q), seasonal_order=(P,D,Q,52))\n",
    "                            res = mod.fit(disp=False)\n",
    "                            \n",
    "                            score = [p,i,q,P,D,Q,r2_score(test, res.forecast(steps=10))]\n",
    "                            print(score)\n",
    "                            scores.append(score)\n",
    "                            \n",
    "                            del mod\n",
    "                            del res\n",
    "                            \n",
    "                        except:\n",
    "                            print('errored')\n",
    "\n",
    "res = pd.DataFrame(scores)\n",
    "res.columns = ['p', 'i', 'q', 'P', 'D', 'Q', 'score']\n",
    "res.sort_values('score')\n"
   ]
  }
 ],
 "metadata": {
  "kernelspec": {
   "display_name": "Python 3",
   "language": "python",
   "name": "python3"
  },
  "language_info": {
   "codemirror_mode": {
    "name": "ipython",
    "version": 3
   },
   "file_extension": ".py",
   "mimetype": "text/x-python",
   "name": "python",
   "nbconvert_exporter": "python",
   "pygments_lexer": "ipython3",
   "version": "3.6.13"
  }
 },
 "nbformat": 4,
 "nbformat_minor": 5
}
