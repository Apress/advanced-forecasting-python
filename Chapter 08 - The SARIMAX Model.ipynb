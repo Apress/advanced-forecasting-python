{
 "cells": [
  {
   "cell_type": "markdown",
   "id": "worthy-qualification",
   "metadata": {},
   "source": [
    "# Chapter 8 - The SARIMAX Model"
   ]
  },
  {
   "cell_type": "markdown",
   "id": "provincial-browse",
   "metadata": {},
   "source": [
    "## Listing 8-1. Preparing the data and making a plot"
   ]
  },
  {
   "cell_type": "code",
   "execution_count": null,
   "id": "analyzed-proceeding",
   "metadata": {},
   "outputs": [],
   "source": [
    "import pandas as pd\n",
    "import matplotlib.pyplot as plt\n",
    "data = pd.read_csv('walmart/train.csv')\n",
    "data = data.groupby('Date').sum()\n",
    "data['IsHoliday'] = data['IsHoliday'] > 0\n",
    "data['IsHoliday'] = data['IsHoliday'].apply(\n",
    "    lambda x: float(x)\n",
    ")\n",
    "\n",
    "ax = data['Weekly_Sales'].plot()\n",
    "ax.set_ylabel('Weekly Sales')\n",
    "plt.gcf().autofmt_xdate()\n",
    "plt.show()\n"
   ]
  },
  {
   "cell_type": "markdown",
   "id": "animal-china",
   "metadata": {},
   "source": [
    "## Listing 8-2 Is there a correlation between sales and holidays?"
   ]
  },
  {
   "cell_type": "code",
   "execution_count": null,
   "id": "forbidden-austria",
   "metadata": {},
   "outputs": [],
   "source": [
    "data[['Weekly_Sales', 'IsHoliday']].corr()"
   ]
  },
  {
   "cell_type": "markdown",
   "id": "israeli-hammer",
   "metadata": {},
   "source": [
    "## Listing 8-3 Fitting a SARIMAX model "
   ]
  },
  {
   "cell_type": "code",
   "execution_count": null,
   "id": "baking-archive",
   "metadata": {},
   "outputs": [],
   "source": [
    "import random\n",
    "random.seed(12345)\n",
    "import statsmodels.api as sm\n",
    "from sklearn.metrics import r2_score\n",
    "\n",
    "train = data['Weekly_Sales'][:-10]\n",
    "test = data['Weekly_Sales'][-10:]\n",
    "\n",
    "mod = sm.tsa.statespace.SARIMAX(\n",
    "    endog=data['Weekly_Sales'][:-10],\n",
    "    exog=data['IsHoliday'][:-10],\n",
    "    order=(0,1,1),\n",
    "    seasonal_order=(1,1,1,52),\n",
    ")\n",
    "res = mod.fit(disp=False)\n",
    "fcst = res.forecast(steps=10, exog = data['IsHoliday'][-10:])\n",
    "\n",
    "plt.plot(list(test))\n",
    "plt.plot(list(fcst))\n",
    "plt.xlabel('Steps of the test data')\n",
    "plt.ylabel('Weekly Sales')\n",
    "plt.legend(['test', 'forecast'])\n",
    "plt.show()\n",
    "r2_score(test, fcst)\n"
   ]
  }
 ],
 "metadata": {
  "kernelspec": {
   "display_name": "Python 3",
   "language": "python",
   "name": "python3"
  },
  "language_info": {
   "codemirror_mode": {
    "name": "ipython",
    "version": 3
   },
   "file_extension": ".py",
   "mimetype": "text/x-python",
   "name": "python",
   "nbconvert_exporter": "python",
   "pygments_lexer": "ipython3",
   "version": "3.6.13"
  }
 },
 "nbformat": 4,
 "nbformat_minor": 5
}
