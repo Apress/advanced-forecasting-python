{
 "cells": [
  {
   "cell_type": "markdown",
   "id": "direct-horror",
   "metadata": {},
   "source": [
    "# Chapter 9 - The VAR Model"
   ]
  },
  {
   "cell_type": "markdown",
   "id": "ranking-morris",
   "metadata": {},
   "source": [
    "## Listing 9-1. Preparing the Walmart data per store"
   ]
  },
  {
   "cell_type": "code",
   "execution_count": null,
   "id": "dated-retention",
   "metadata": {},
   "outputs": [],
   "source": [
    "import pandas as pd\n",
    "import matplotlib.pyplot as plt\n",
    "data = pd.read_csv('walmart/train.csv')\n",
    "data = data.pivot_table(index = 'Date', columns = 'Store', values = 'Weekly_Sales')\n",
    "\n",
    "ax = data.plot(figsize=(20,15))\n",
    "ax.legend([])\n",
    "ax.set_ylabel('Sales')\n",
    "plt.show()\n"
   ]
  },
  {
   "cell_type": "markdown",
   "id": "accompanied-creator",
   "metadata": {},
   "source": [
    "## Listing 9-2. Fitting the VAR model"
   ]
  },
  {
   "cell_type": "code",
   "execution_count": null,
   "id": "australian-inspiration",
   "metadata": {},
   "outputs": [],
   "source": [
    "from sklearn.metrics import mean_absolute_percentage_error\n",
    "from statsmodels.tsa.api import VAR\n",
    "\n",
    "train = data.iloc[:-10,:]\n",
    "test = data.iloc[-10:,:]\n",
    "\n",
    "model = VAR(train)\n",
    "results = model.fit(maxlags=2)\n",
    "\n",
    "lag_order = results.k_ar\n",
    "fcst = results.forecast(train.values[-lag_order:], 10)\n",
    "\n",
    "model_accuracy = 1 - mean_absolute_percentage_error(test, fcst)\n",
    "print(model_accuracy)\n"
   ]
  }
 ],
 "metadata": {
  "kernelspec": {
   "display_name": "Python 3",
   "language": "python",
   "name": "python3"
  },
  "language_info": {
   "codemirror_mode": {
    "name": "ipython",
    "version": 3
   },
   "file_extension": ".py",
   "mimetype": "text/x-python",
   "name": "python",
   "nbconvert_exporter": "python",
   "pygments_lexer": "ipython3",
   "version": "3.6.13"
  }
 },
 "nbformat": 4,
 "nbformat_minor": 5
}
