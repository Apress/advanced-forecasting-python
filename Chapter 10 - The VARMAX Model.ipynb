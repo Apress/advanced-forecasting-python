{
 "cells": [
  {
   "cell_type": "markdown",
   "id": "inner-brand",
   "metadata": {},
   "source": [
    "# Chapter 10 - The VARMAX Model"
   ]
  },
  {
   "cell_type": "markdown",
   "id": "experienced-ending",
   "metadata": {},
   "source": [
    "## Listing 10-1. Prepare the Walmart data for the VARMAX model"
   ]
  },
  {
   "cell_type": "code",
   "execution_count": null,
   "id": "introductory-region",
   "metadata": {},
   "outputs": [],
   "source": [
    "import pandas as pd\n",
    "import matplotlib.pyplot as plt\n",
    "data = pd.read_csv('walmart/train.csv')\n",
    "exog = data.groupby('Date')['IsHoliday'].sum() > 0\n",
    "exog = exog.apply(lambda x: float(x))\n",
    "\n",
    "data = data.pivot_table(index = 'Date', columns = 'Store', values = 'Weekly_Sales')\n",
    "\n",
    "ax = data.plot(figsize=(20,15))\n",
    "ax.legend([])\n",
    "ax.set_ylabel('Sales')\n",
    "plt.show()\n"
   ]
  },
  {
   "cell_type": "markdown",
   "id": "severe-celtic",
   "metadata": {},
   "source": [
    "## Listing 10-2. Running the VARMAX(1,1) model"
   ]
  },
  {
   "cell_type": "code",
   "execution_count": null,
   "id": "sought-sullivan",
   "metadata": {},
   "outputs": [],
   "source": [
    "import statsmodels.api as sm\n",
    "from sklearn.metrics import mean_absolute_percentage_error\n",
    "\n",
    "train = data.iloc[:-10,[0,1,2]]\n",
    "test = data.iloc[-10:,[0,1,2]]\n",
    "\n",
    "train_exog = exog[:-10]\n",
    "test_exog = exog[-10:]\n",
    "\n",
    "mod = sm.tsa.VARMAX(train, order=(1,1), exog=train_exog)\n",
    "res = mod.fit(maxiter=100, disp=False)\n",
    "\n",
    "fcst = res.forecast(exog=test_exog.values, steps=10)\n",
    "mape = mean_absolute_percentage_error(test, fcst)\n",
    "model_accuracy = 1 - mape\n",
    "print(model_accuracy)\n"
   ]
  }
 ],
 "metadata": {
  "kernelspec": {
   "display_name": "Python 3",
   "language": "python",
   "name": "python3"
  },
  "language_info": {
   "codemirror_mode": {
    "name": "ipython",
    "version": 3
   },
   "file_extension": ".py",
   "mimetype": "text/x-python",
   "name": "python",
   "nbconvert_exporter": "python",
   "pygments_lexer": "ipython3",
   "version": "3.6.13"
  }
 },
 "nbformat": 4,
 "nbformat_minor": 5
}
