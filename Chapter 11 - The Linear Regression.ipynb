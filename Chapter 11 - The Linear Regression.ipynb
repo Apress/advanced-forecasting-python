{
 "cells": [
  {
   "cell_type": "markdown",
   "id": "decreased-relation",
   "metadata": {},
   "source": [
    "# Chapter 11 - The Linear Regression"
   ]
  },
  {
   "cell_type": "markdown",
   "id": "healthy-command",
   "metadata": {},
   "source": [
    "## Listing 11-1. Importing the data and plotting it"
   ]
  },
  {
   "cell_type": "code",
   "execution_count": null,
   "id": "popular-stupid",
   "metadata": {},
   "outputs": [],
   "source": [
    "import statsmodels.api as sm\n",
    "import pandas as pd\n",
    "import matplotlib.pyplot as plt\n",
    "\n",
    "data = sm.datasets.co2.load_pandas()\n",
    "co2 = data.data\n",
    "co2 = co2.dropna()\n",
    "ax = co2.plot()\n",
    "ax.set_ylabel('CO2 level')\n",
    "plt.show()\n"
   ]
  },
  {
   "cell_type": "markdown",
   "id": "dimensional-collect",
   "metadata": {},
   "source": [
    "## Listing 11-2. Creating the variable month"
   ]
  },
  {
   "cell_type": "code",
   "execution_count": null,
   "id": "ready-episode",
   "metadata": {},
   "outputs": [],
   "source": [
    "co2['month'] = [x.month for x in co2.index] "
   ]
  },
  {
   "cell_type": "markdown",
   "id": "irish-raising",
   "metadata": {},
   "source": [
    "## Listing 11-3. Creating the variable year"
   ]
  },
  {
   "cell_type": "code",
   "execution_count": null,
   "id": "thermal-speaker",
   "metadata": {},
   "outputs": [],
   "source": [
    "co2['year'] = [x.year for x in co2.index] "
   ]
  },
  {
   "cell_type": "markdown",
   "id": "heard-thought",
   "metadata": {},
   "source": [
    "## Listing 11-4. Fitting a Linear Regression with two variables"
   ]
  },
  {
   "cell_type": "code",
   "execution_count": null,
   "id": "delayed-hobby",
   "metadata": {},
   "outputs": [],
   "source": [
    "# Create X and y objects\n",
    "X = co2[['year', 'month']]\n",
    "y = co2['co2']\n",
    "\n",
    "# Create Train test split\n",
    "from sklearn.model_selection import train_test_split\n",
    "X_train, X_test, y_train, y_test = train_test_split(X, y, test_size=0.20, random_state=12345,shuffle=False)\n",
    "\n",
    "# Fit model\n",
    "from sklearn.linear_model import LinearRegression\n",
    "from sklearn.metrics import r2_score\n",
    "\n",
    "my_lm = LinearRegression()\n",
    "my_lm.fit(X = X_train, y = y_train)\n",
    "\n",
    "train_fcst = my_lm.predict(X_train)\n",
    "test_fcst = my_lm.predict(X_test)\n",
    "\n",
    "train_r2 = r2_score(y_train, train_fcst)\n",
    "test_r2 = r2_score(y_test, test_fcst)\n",
    "\n",
    "print(train_r2, test_r2)\n",
    "\n",
    "# Plot result\n",
    "plt.plot(list(test_fcst))\n",
    "plt.plot(list(y_test))\n",
    "plt.xlabel('Steps into the test set')\n",
    "plt.ylabel('CO2 levels')\n",
    "plt.show()\n"
   ]
  },
  {
   "cell_type": "markdown",
   "id": "statistical-explosion",
   "metadata": {},
   "source": [
    "## Listing 11-4. Adding lagged variables into the data"
   ]
  },
  {
   "cell_type": "code",
   "execution_count": null,
   "id": "familiar-columbus",
   "metadata": {},
   "outputs": [],
   "source": [
    "co2['co2_l1'] = co2['co2'].shift(1)\n",
    "co2['co2_l2'] = co2['co2'].shift(2)\n",
    "co2['co2_l3'] = co2['co2'].shift(3)\n",
    "co2['co2_l4'] = co2['co2'].shift(4)\n",
    "co2['co2_l5'] = co2['co2'].shift(5)\n"
   ]
  },
  {
   "cell_type": "markdown",
   "id": "solar-moses",
   "metadata": {},
   "source": [
    "## Listing 11-5. Drop missing values"
   ]
  },
  {
   "cell_type": "code",
   "execution_count": null,
   "id": "individual-lightning",
   "metadata": {},
   "outputs": [],
   "source": [
    "co2 = co2.dropna()"
   ]
  },
  {
   "cell_type": "markdown",
   "id": "regional-combination",
   "metadata": {},
   "source": [
    "## Listing 11-6. Fitting the full Linear Regression model"
   ]
  },
  {
   "cell_type": "code",
   "execution_count": null,
   "id": "second-cloud",
   "metadata": {},
   "outputs": [],
   "source": [
    "# Create X and y objects\n",
    "X = co2[['year', 'month', 'co2_l1', 'co2_l2', 'co2_l3', 'co2_l4', 'co2_l5']]\n",
    "y = co2['co2']\n",
    "\n",
    "# Train Test Split\n",
    "X_train, X_test, y_train, y_test = train_test_split(X, y, test_size=0.20, random_state=12345,shuffle=False)\n",
    "\n",
    "# Fit the model\n",
    "my_lm = LinearRegression()\n",
    "my_lm.fit(X = X_train, y = y_train)\n",
    "\n",
    "train_fcst = my_lm.predict(X_train)\n",
    "test_fcst = my_lm.predict(X_test)\n",
    "\n",
    "train_r2 = r2_score(y_train, train_fcst)\n",
    "test_r2 = r2_score(y_test, test_fcst)\n",
    "\n",
    "print(train_r2, test_r2)\n",
    "\n",
    "# Plot result\n",
    "plt.plot(list(test_fcst))\n",
    "plt.plot(list(y_test))\n",
    "plt.xlabel('Steps into the test set')\n",
    "plt.ylabel('CO2 levels')\n",
    "plt.show()\n"
   ]
  }
 ],
 "metadata": {
  "kernelspec": {
   "display_name": "Python 3",
   "language": "python",
   "name": "python3"
  },
  "language_info": {
   "codemirror_mode": {
    "name": "ipython",
    "version": 3
   },
   "file_extension": ".py",
   "mimetype": "text/x-python",
   "name": "python",
   "nbconvert_exporter": "python",
   "pygments_lexer": "ipython3",
   "version": "3.6.13"
  }
 },
 "nbformat": 4,
 "nbformat_minor": 5
}
