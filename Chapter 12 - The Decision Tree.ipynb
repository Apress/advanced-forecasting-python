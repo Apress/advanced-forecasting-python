{
 "cells": [
  {
   "cell_type": "markdown",
   "id": "entire-object",
   "metadata": {},
   "source": [
    "# Chapter 12 - The Decision Tree"
   ]
  },
  {
   "cell_type": "markdown",
   "id": "authorized-solution",
   "metadata": {},
   "source": [
    "## Listing 12-1. Import the bike data"
   ]
  },
  {
   "cell_type": "code",
   "execution_count": null,
   "id": "current-survey",
   "metadata": {},
   "outputs": [],
   "source": [
    "import pandas as pd\n",
    "import matplotlib.pyplot as plt\n",
    "data = pd.read_csv('bikedata/day.csv')\n",
    "ax = data['cnt'].plot()\n",
    "ax.set_ylabel('Number of users')\n",
    "ax.set_xlabel('Time')\n",
    "plt.show()\n"
   ]
  },
  {
   "cell_type": "markdown",
   "id": "danish-jacket",
   "metadata": {},
   "source": [
    "## Listing 12-2. Creating the training dataset"
   ]
  },
  {
   "cell_type": "code",
   "execution_count": null,
   "id": "positive-membership",
   "metadata": {},
   "outputs": [],
   "source": [
    "# 7 last days of user count (autoregression)\n",
    "data['usersL1'] = data['cnt'].shift(1)\n",
    "data['usersL2'] = data['cnt'].shift(2)\n",
    "data['usersL3'] = data['cnt'].shift(3)\n",
    "data['usersL4'] = data['cnt'].shift(4)\n",
    "data['usersL5'] = data['cnt'].shift(5)\n",
    "data['usersL6'] = data['cnt'].shift(6)\n",
    "data['usersL7'] = data['cnt'].shift(7)\n",
    "\n",
    "# 7 last days of weathersit\n",
    "data['weatherL1'] = data['weathersit'].shift(1)\n",
    "data['weatherL2'] = data['weathersit'].shift(2)\n",
    "data['weatherL3'] = data['weathersit'].shift(3)\n",
    "data['weatherL4'] = data['weathersit'].shift(4)\n",
    "data['weatherL5'] = data['weathersit'].shift(5)\n",
    "data['weatherL6'] = data['weathersit'].shift(6)\n",
    "data['weatherL7'] = data['weathersit'].shift(7)\n",
    "\n",
    "# 7 last days of temperature\n",
    "data['tempL1'] = data['temp'].shift(1)\n",
    "data['tempL2'] = data['temp'].shift(2)\n",
    "data['tempL3'] = data['temp'].shift(3)\n",
    "data['tempL4'] = data['temp'].shift(4)\n",
    "data['tempL5'] = data['temp'].shift(5)\n",
    "data['tempL6'] = data['temp'].shift(6)\n",
    "data['tempL7'] = data['temp'].shift(7)\n",
    "\n",
    "# 7 last days of humidity\n",
    "data['humL1'] = data['hum'].shift(1)\n",
    "data['humL2'] = data['hum'].shift(2)\n",
    "data['humL3'] = data['hum'].shift(3)\n",
    "data['humL4'] = data['hum'].shift(4)\n",
    "data['humL5'] = data['hum'].shift(5)\n",
    "data['humL6'] = data['hum'].shift(6)\n",
    "data['humL7'] = data['hum'].shift(7)\n",
    "\n",
    "data = data.dropna()\n",
    "data = data.drop(477)\n",
    "\n",
    "X = data[['season', 'yr', 'mnth', 'holiday', 'weekday', 'workingday', \n",
    "          'weatherL1', 'weatherL2', 'weatherL3', 'weatherL4', 'weatherL5', 'weatherL6', 'weatherL7',\n",
    "         'usersL1','usersL2', 'usersL3', 'usersL4', 'usersL5', 'usersL6', 'usersL7',\n",
    "         'tempL1', 'tempL2', 'tempL3', 'tempL4', 'tempL5', 'tempL6', 'tempL7',\n",
    "         'humL1', 'humL2','humL3', 'humL4', 'humL5', 'humL6', 'humL7']]\n",
    "\n",
    "y = data['cnt']\n"
   ]
  },
  {
   "cell_type": "markdown",
   "id": "fatty-trial",
   "metadata": {},
   "source": [
    "## Listing 12-3. Fitting the model"
   ]
  },
  {
   "cell_type": "code",
   "execution_count": null,
   "id": "english-upper",
   "metadata": {},
   "outputs": [],
   "source": [
    "# Create Train test split\n",
    "from sklearn.model_selection import train_test_split\n",
    "X_train, X_test, y_train, y_test = train_test_split(X, y, test_size=0.20, random_state=12345, shuffle=False)\n",
    "\n",
    "from sklearn.tree import DecisionTreeRegressor\n",
    "my_dt = DecisionTreeRegressor(random_state=12345)\n",
    "my_dt.fit(X_train, y_train)\n",
    "\n",
    "from sklearn.metrics import r2_score\n",
    "print(r2_score(list(y_test), list(my_dt.predict(X_test))))\n"
   ]
  },
  {
   "cell_type": "markdown",
   "id": "endless-soviet",
   "metadata": {},
   "source": [
    "## Listing 12-4. Adding a grid search"
   ]
  },
  {
   "cell_type": "code",
   "execution_count": null,
   "id": "combined-continent",
   "metadata": {},
   "outputs": [],
   "source": [
    "from sklearn.model_selection import GridSearchCV\n",
    "\n",
    "my_dt = GridSearchCV(DecisionTreeRegressor(random_state=44), \n",
    "                 {'min_samples_split': list(range(20,50, 2)),\n",
    "                 'max_features': [0.6, 0.7, 0.8, 0.9, 1.],\n",
    "                 'criterion': ['mse', 'mae']},\n",
    "                scoring = 'r2', n_jobs = -1)\n",
    "\n",
    "my_dt.fit(X_train, y_train)\n",
    "print(r2_score(list(y_test), list(my_dt.predict(X_test))))\n"
   ]
  },
  {
   "cell_type": "markdown",
   "id": "enhanced-stroke",
   "metadata": {},
   "source": [
    "## Listing 12-5. Finding the best parameters"
   ]
  },
  {
   "cell_type": "code",
   "execution_count": null,
   "id": "quick-baptist",
   "metadata": {},
   "outputs": [],
   "source": [
    "print(my_dt.best_estimator_)"
   ]
  },
  {
   "cell_type": "markdown",
   "id": "three-expert",
   "metadata": {},
   "source": [
    "## Listing 12-6. Plotting the prediction"
   ]
  },
  {
   "cell_type": "code",
   "execution_count": null,
   "id": "authentic-dairy",
   "metadata": {},
   "outputs": [],
   "source": [
    "fcst = my_dt.predict(X_test)\n",
    "\n",
    "plt.plot(list(fcst))\n",
    "plt.plot(list(y_test))\n",
    "plt.ylabel('Sales')\n",
    "plt.xlabel('Time')\n",
    "plt.show()\n"
   ]
  },
  {
   "cell_type": "markdown",
   "id": "contrary-taste",
   "metadata": {},
   "source": [
    "## Listing 12-7. Plotting the prediction"
   ]
  },
  {
   "cell_type": "code",
   "execution_count": null,
   "id": "worldwide-badge",
   "metadata": {},
   "outputs": [],
   "source": [
    "from sklearn.tree import plot_tree\n",
    "plot_tree(my_dt.best_estimator_, max_depth=1)\n",
    "plt.show()\n"
   ]
  }
 ],
 "metadata": {
  "kernelspec": {
   "display_name": "Python 3",
   "language": "python",
   "name": "python3"
  },
  "language_info": {
   "codemirror_mode": {
    "name": "ipython",
    "version": 3
   },
   "file_extension": ".py",
   "mimetype": "text/x-python",
   "name": "python",
   "nbconvert_exporter": "python",
   "pygments_lexer": "ipython3",
   "version": "3.6.13"
  }
 },
 "nbformat": 4,
 "nbformat_minor": 5
}
