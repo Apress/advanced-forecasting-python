{
 "cells": [
  {
   "cell_type": "markdown",
   "id": "foreign-climate",
   "metadata": {},
   "source": [
    "# Chapter 13 - The kNN Model"
   ]
  },
  {
   "cell_type": "markdown",
   "id": "preceding-founder",
   "metadata": {},
   "source": [
    "## Listing 13-1. Import the traffic data"
   ]
  },
  {
   "cell_type": "code",
   "execution_count": null,
   "id": "religious-designation",
   "metadata": {},
   "outputs": [],
   "source": [
    "import pandas as pd\n",
    "data = pd.read_csv('Metro_Interstate_Traffic_Volume.csv.gz',compression='gzip')\n"
   ]
  },
  {
   "cell_type": "markdown",
   "id": "romantic-christopher",
   "metadata": {},
   "source": [
    "## Listing 13-2. Feature engineering to create the additional explanaotry variables"
   ]
  },
  {
   "cell_type": "code",
   "execution_count": null,
   "id": "infectious-tractor",
   "metadata": {},
   "outputs": [],
   "source": [
    "data['year'] = data['date_time'].apply(lambda x: x[:4])\n",
    "data['month'] = data['date_time'].apply(lambda x: x[5:7])\n",
    "data['weekday'] = pd.to_datetime(data['date_time']).apply(lambda x: x.weekday())\n",
    "data['hour'] = pd.to_datetime(data['date_time']).apply(lambda x: x.hour)\n",
    "data['isholiday'] = (data['holiday'] == 'None').apply(float)\n"
   ]
  },
  {
   "cell_type": "markdown",
   "id": "incorporated-backup",
   "metadata": {},
   "source": [
    "## Listing 13-3. Creating the train test split and computing the R2 of the default model"
   ]
  },
  {
   "cell_type": "code",
   "execution_count": null,
   "id": "confidential-gambling",
   "metadata": {},
   "outputs": [],
   "source": [
    "# Create objects X and y\n",
    "X = data[['year', 'month', 'weekday', 'hour', 'isholiday']]\n",
    "y = data['traffic_volume']\n",
    "\n",
    "# Create Train test split\n",
    "from sklearn.model_selection import train_test_split\n",
    "X_train, X_test, y_train, y_test = train_test_split(X, y, test_size=100, random_state=12345, shuffle=False)\n",
    "\n",
    "from sklearn.neighbors import KNeighborsRegressor\n",
    "my_dt = KNeighborsRegressor()\n",
    "my_dt.fit(X_train, y_train)\n",
    "\n",
    "fcst = my_dt.predict(X_test)\n",
    "\n",
    "from sklearn.metrics import r2_score\n",
    "print(r2_score(list(y_test), list(fcst)))\n"
   ]
  },
  {
   "cell_type": "markdown",
   "id": "connected-luther",
   "metadata": {},
   "source": [
    "## Listing 13-4. Creating a plot on the data of the test set"
   ]
  },
  {
   "cell_type": "code",
   "execution_count": null,
   "id": "distinct-topic",
   "metadata": {},
   "outputs": [],
   "source": [
    "import matplotlib.pyplot as plt\n",
    "plt.figure(figsize=(20,20))\n",
    "plt.plot(list(y_test))\n",
    "plt.plot(list(fcst))\n",
    "plt.legend(['actuals', 'forecast'])\n",
    "plt.ylabel('Traffic Volume')\n",
    "plt.xlabel('Steps in test data')\n",
    "plt.show()\n"
   ]
  },
  {
   "cell_type": "markdown",
   "id": "gross-personal",
   "metadata": {},
   "source": [
    "## Listing 13-5. Adding a grid search cross-validation to the knn model"
   ]
  },
  {
   "cell_type": "code",
   "execution_count": null,
   "id": "occupied-nursery",
   "metadata": {},
   "outputs": [],
   "source": [
    "from sklearn.model_selection import GridSearchCV\n",
    "\n",
    "my_knn = GridSearchCV(KNeighborsRegressor(), \n",
    "                 {'n_neighbors':[2, 4, 6, 8, 10, 12]},\n",
    "                scoring = 'r2', n_jobs = -1)\n",
    "\n",
    "my_knn.fit(X_train, y_train)\n",
    "print(r2_score(list(y_test), list(my_knn.predict(X_test))))\n",
    "print(my_knn.best_estimator_)\n"
   ]
  },
  {
   "cell_type": "markdown",
   "id": "intellectual-indonesia",
   "metadata": {},
   "source": [
    "## Listing 13-6. Adding a random search cross-validation to the knn model"
   ]
  },
  {
   "cell_type": "code",
   "execution_count": null,
   "id": "necessary-parks",
   "metadata": {},
   "outputs": [],
   "source": [
    "from sklearn.model_selection import RandomizedSearchCV\n",
    "\n",
    "my_knn = RandomizedSearchCV(KNeighborsRegressor(), \n",
    "                 {'n_neighbors':list(range(1, 20))},\n",
    "                scoring = 'r2', n_iter=10, n_jobs = -1)\n",
    "\n",
    "my_knn.fit(X_train, y_train)\n",
    "print(r2_score(list(y_test), list(my_knn.predict(X_test))))\n",
    "print(my_knn.best_estimator_)\n"
   ]
  }
 ],
 "metadata": {
  "kernelspec": {
   "display_name": "Python 3",
   "language": "python",
   "name": "python3"
  },
  "language_info": {
   "codemirror_mode": {
    "name": "ipython",
    "version": 3
   },
   "file_extension": ".py",
   "mimetype": "text/x-python",
   "name": "python",
   "nbconvert_exporter": "python",
   "pygments_lexer": "ipython3",
   "version": "3.6.13"
  }
 },
 "nbformat": 4,
 "nbformat_minor": 5
}
