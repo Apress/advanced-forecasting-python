{
 "cells": [
  {
   "cell_type": "markdown",
   "id": "tutorial-pilot",
   "metadata": {},
   "source": [
    "# Chapter 17 - RNNs using SimpleRNN and GRU"
   ]
  },
  {
   "cell_type": "markdown",
   "id": "robust-strap",
   "metadata": {},
   "source": [
    "## Listing 17-1. Importing the data"
   ]
  },
  {
   "cell_type": "code",
   "execution_count": null,
   "id": "absolute-registrar",
   "metadata": {},
   "outputs": [],
   "source": [
    "import keras\n",
    "import pandas as pd\n",
    "\n",
    "from zipfile import ZipFile\n",
    "import os\n",
    "\n",
    "uri = \"https://storage.googleapis.com/tensorflow/tf-keras-datasets/jena_climate_2009_2016.csv.zip\"\n",
    "zip_path = keras.utils.get_file(origin=uri, fname=\"jena_climate_2009_2016.csv.zip\")\n",
    "zip_file = ZipFile(zip_path)\n",
    "zip_file.extractall()\n",
    "csv_path = \"jena_climate_2009_2016.csv\"\n",
    "\n",
    "df = pd.read_csv(csv_path)\n",
    "del zip_file\n"
   ]
  },
  {
   "cell_type": "markdown",
   "id": "essential-decision",
   "metadata": {},
   "source": [
    "## Listing 17-2. Keep only temperature data\n"
   ]
  },
  {
   "cell_type": "code",
   "execution_count": null,
   "id": "alike-involvement",
   "metadata": {},
   "outputs": [],
   "source": [
    "df = df[['T (degC)']]\n"
   ]
  },
  {
   "cell_type": "markdown",
   "id": "formed-deployment",
   "metadata": {},
   "source": [
    "## Listing 17-3. Apply a MinMaxScaler"
   ]
  },
  {
   "cell_type": "code",
   "execution_count": null,
   "id": "bizarre-teach",
   "metadata": {},
   "outputs": [],
   "source": [
    "# apply a min max scaler\n",
    "from sklearn.preprocessing import MinMaxScaler\n",
    "scaler = MinMaxScaler()\n",
    "df = pd.DataFrame(scaler.fit_transform(df), columns = ['T'])\n"
   ]
  },
  {
   "cell_type": "markdown",
   "id": "loose-jacob",
   "metadata": {},
   "source": [
    "## Listing 17-4. Preparing the sequence data"
   ]
  },
  {
   "cell_type": "code",
   "execution_count": null,
   "id": "helpful-turning",
   "metadata": {},
   "outputs": [],
   "source": [
    "ylist = list(df['T'])\n",
    "\n",
    "n_future = 72\n",
    "n_past = 3*72\n",
    "total_period = 4*72\n",
    "\n",
    "idx_end = len(ylist)\n",
    "idx_start = idx_end - total_period\n",
    "\n",
    "X_new = []\n",
    "y_new = []\n",
    "while idx_start > 0:\n",
    "  x_line = ylist[idx_start:idx_start+n_past]\n",
    "  y_line = ylist[idx_start+n_past:idx_start+total_period]\n",
    "\n",
    "  X_new.append(x_line)\n",
    "  y_new.append(y_line)\n",
    "\n",
    "  idx_start = idx_start - 1\n",
    "\n",
    "# converting list of lists to numpy array\n",
    "import numpy as np\n",
    "X_new = np.array(X_new)\n",
    "y_new = np.array(y_new)\n"
   ]
  },
  {
   "cell_type": "markdown",
   "id": "extra-corner",
   "metadata": {},
   "source": [
    "## Listing 17-5. Splitting train and test"
   ]
  },
  {
   "cell_type": "code",
   "execution_count": null,
   "id": "differential-potter",
   "metadata": {},
   "outputs": [],
   "source": [
    "from sklearn.model_selection import train_test_split\n",
    "\n",
    "X_train, X_test, y_train, y_test = train_test_split(X_new, y_new, test_size=0.33, random_state=42)\n"
   ]
  },
  {
   "cell_type": "markdown",
   "id": "waiting-membership",
   "metadata": {},
   "source": [
    "## Listing 17-6. Reshape the data to be recognized by keras"
   ]
  },
  {
   "cell_type": "code",
   "execution_count": null,
   "id": "gentle-dealing",
   "metadata": {},
   "outputs": [],
   "source": [
    "batch_size = 32\n",
    "\n",
    "n_samples = X_train.shape[0]\n",
    "n_timesteps = X_train.shape[1]\n",
    "n_steps = y_train.shape[1]\n",
    "n_features = 1\n",
    "\n",
    "X_train_rs = X_train.reshape(n_samples, n_timesteps, n_features )\n",
    "\n",
    "X_test_rs = X_test.reshape(X_test.shape[0], n_timesteps, n_features )\n"
   ]
  },
  {
   "cell_type": "markdown",
   "id": "brazilian-differential",
   "metadata": {},
   "source": [
    "## Listing 17-7. Parametetrize a small network with SimpleRNN"
   ]
  },
  {
   "cell_type": "code",
   "execution_count": null,
   "id": "provincial-clark",
   "metadata": {},
   "outputs": [],
   "source": [
    "import random\n",
    "random.seed(42)\n",
    "\n",
    "from tensorflow.keras.models import Sequential\n",
    "from tensorflow.keras.layers import Dense, SimpleRNN\n",
    "\n",
    "simple_model = Sequential([\n",
    "  SimpleRNN(8, activation='tanh',input_shape=(n_timesteps, n_features)),\n",
    "  Dense(y_train.shape[1]),\n",
    "])\n",
    "\n",
    "\n",
    "simple_model.summary()\n",
    "\n",
    "simple_model.compile(\n",
    "  optimizer=keras.optimizers.Adam(learning_rate=0.001),\n",
    "  loss='mean_absolute_error',\n",
    "  metrics=['mean_absolute_error'],\n",
    ")\n",
    "\n",
    "smod_history = simple_model.fit(X_train_rs, y_train,\n",
    "          validation_split=0.2,\n",
    "          epochs=5,\n",
    "          batch_size=batch_size,\n",
    "          shuffle = True\n",
    ")\n",
    "\n",
    "preds = simple_model.predict(X_test_rs)\n",
    "\n",
    "from sklearn.metrics import r2_score\n",
    "print(r2_score(preds, y_test))\n",
    "\n",
    "import matplotlib.pyplot as plt\n",
    "plt.plot(smod_history.history['loss'])\n",
    "plt.plot(smod_history.history['val_loss'])\n",
    "plt.title('model loss')\n",
    "plt.xlabel('epoch')\n",
    "plt.legend(['train', 'val'], loc='upper left')\n",
    "plt.show()\n"
   ]
  },
  {
   "cell_type": "markdown",
   "id": "divided-renaissance",
   "metadata": {},
   "source": [
    "## Listing 17-8. A more complex network with three layers of SimpleRNN"
   ]
  },
  {
   "cell_type": "code",
   "execution_count": null,
   "id": "regulated-admission",
   "metadata": {},
   "outputs": [],
   "source": [
    "random.seed(42)\n",
    "\n",
    "simple_model = Sequential([\n",
    "  SimpleRNN(32, activation='tanh',input_shape=(n_timesteps, n_features), return_sequences=True),\n",
    "  SimpleRNN(32, activation='tanh', return_sequences = True),\n",
    "  SimpleRNN(32, activation='tanh'),\n",
    "  Dense(y_train.shape[1]),\n",
    "])\n",
    "\n",
    "simple_model.summary()\n",
    "\n",
    "simple_model.compile(\n",
    "  optimizer=keras.optimizers.Adam(learning_rate=0.001),\n",
    "  loss='mean_absolute_error',\n",
    "  metrics=['mean_absolute_error'],\n",
    ")\n",
    "\n",
    "smod_history = simple_model.fit(X_train_rs, y_train,\n",
    "          validation_split=0.2,\n",
    "          epochs=5,\n",
    "          batch_size=batch_size,\n",
    "          shuffle = True\n",
    ")\n",
    "\n",
    "preds = simple_model.predict(X_test_rs)\n",
    "\n",
    "print(r2_score(preds, y_test))\n",
    "\n",
    "plt.plot(smod_history.history['loss'])\n",
    "plt.plot(smod_history.history['val_loss'])\n",
    "plt.title('model loss')\n",
    "plt.xlabel('epoch')\n",
    "plt.legend(['train', 'val'], loc='upper left')\n",
    "plt.show()\n"
   ]
  },
  {
   "cell_type": "markdown",
   "id": "auburn-compatibility",
   "metadata": {},
   "source": [
    "## Listing 17-9. A simple architecture with 1 GRU layer"
   ]
  },
  {
   "cell_type": "code",
   "execution_count": null,
   "id": "described-namibia",
   "metadata": {},
   "outputs": [],
   "source": [
    "random.seed(42)\n",
    "from tensorflow.keras.layers import GRU\n",
    "\n",
    "simple_model = Sequential([\n",
    "   GRU(8, activation='tanh',input_shape=(n_timesteps, n_features)),\n",
    "  Dense(y_train.shape[1]),\n",
    "])\n",
    "\n",
    "simple_model.summary()\n",
    "\n",
    "simple_model.compile(\n",
    "  optimizer=keras.optimizers.Adam(learning_rate=0.01),\n",
    "  loss='mean_absolute_error',\n",
    "  metrics=['mean_absolute_error'],\n",
    ")\n",
    "\n",
    "smod_history = simple_model.fit(X_train_rs, y_train,\n",
    "          validation_split=0.2,\n",
    "          epochs=10,\n",
    "          batch_size=batch_size,\n",
    "          shuffle = True\n",
    ")\n",
    "\n",
    "preds = simple_model.predict(X_test_rs)\n",
    "\n",
    "print(r2_score(preds, y_test))\n",
    "\n",
    "plt.plot(smod_history.history['loss'])\n",
    "plt.plot(smod_history.history['val_loss'])\n",
    "plt.title('model loss')\n",
    "plt.xlabel('epoch')\n",
    "plt.legend(['train', 'val'], loc='upper left')\n",
    "plt.show()\n"
   ]
  },
  {
   "cell_type": "markdown",
   "id": "ultimate-tumor",
   "metadata": {},
   "source": [
    "## Listing 17-10. A more complex network with three layers of GRU"
   ]
  },
  {
   "cell_type": "code",
   "execution_count": null,
   "id": "equivalent-extraction",
   "metadata": {},
   "outputs": [],
   "source": [
    "random.seed(42)\n",
    "\n",
    "simple_model = Sequential([\n",
    "   GRU(64, activation='tanh',input_shape=(n_timesteps, n_features), return_sequences=True),\n",
    "    GRU(64, activation='tanh', return_sequences=True),\n",
    "    GRU(64, activation='tanh'),\n",
    "  Dense(y_train.shape[1]),\n",
    "])\n",
    "\n",
    "simple_model.summary()\n",
    "\n",
    "simple_model.compile(\n",
    "  optimizer=keras.optimizers.Adam(learning_rate=0.001),\n",
    "  loss='mean_absolute_error',\n",
    "  metrics=['mean_absolute_error'],\n",
    ")\n",
    "\n",
    "smod_history = simple_model.fit(X_train_rs, y_train,\n",
    "          validation_split=0.2,\n",
    "          epochs=10,\n",
    "          batch_size=batch_size,\n",
    "          shuffle = True\n",
    ")\n",
    "\n",
    "preds = simple_model.predict(X_test_rs)\n",
    "\n",
    "print(r2_score(preds, y_test))\n",
    "\n",
    "plt.plot(smod_history.history['loss'])\n",
    "plt.plot(smod_history.history['val_loss'])\n",
    "plt.title('model loss')\n",
    "plt.xlabel('epoch')\n",
    "plt.legend(['train', 'val'], loc='upper left')\n",
    "plt.show()\n"
   ]
  }
 ],
 "metadata": {
  "kernelspec": {
   "display_name": "Python 3",
   "language": "python",
   "name": "python3"
  },
  "language_info": {
   "codemirror_mode": {
    "name": "ipython",
    "version": 3
   },
   "file_extension": ".py",
   "mimetype": "text/x-python",
   "name": "python",
   "nbconvert_exporter": "python",
   "pygments_lexer": "ipython3",
   "version": "3.6.13"
  }
 },
 "nbformat": 4,
 "nbformat_minor": 5
}
