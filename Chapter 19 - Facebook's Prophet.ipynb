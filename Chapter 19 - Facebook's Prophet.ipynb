{
 "cells": [
  {
   "cell_type": "markdown",
   "id": "developed-insider",
   "metadata": {},
   "source": [
    "# Chapter 19 - Facebook's Prophet"
   ]
  },
  {
   "cell_type": "markdown",
   "id": "loose-helen",
   "metadata": {},
   "source": [
    "## Listing 19-1. Preparing the dependent variable"
   ]
  },
  {
   "cell_type": "code",
   "execution_count": null,
   "id": "unlimited-michael",
   "metadata": {},
   "outputs": [],
   "source": [
    "import pandas as pd\n",
    "y = pd.read_csv('air_visit_data.csv.zip')\n",
    "y = y.pivot(index='visit_date', columns='air_store_id')['visitors']\n",
    "y = y.fillna(0)\n",
    "y = pd.DataFrame(y.sum(axis=1))\n"
   ]
  },
  {
   "cell_type": "markdown",
   "id": "sudden-overview",
   "metadata": {},
   "source": [
    "## Listing 19-2. Preparing the modeling data frame"
   ]
  },
  {
   "cell_type": "code",
   "execution_count": null,
   "id": "recorded-industry",
   "metadata": {},
   "outputs": [],
   "source": [
    "y = y.reset_index(drop=False)\n",
    "y.columns = ['ds', 'y']\n"
   ]
  },
  {
   "cell_type": "markdown",
   "id": "basic-hybrid",
   "metadata": {},
   "source": [
    "## Listing 19-3. Creating a train-test split"
   ]
  },
  {
   "cell_type": "code",
   "execution_count": null,
   "id": "heard-toyota",
   "metadata": {},
   "outputs": [],
   "source": [
    "train = y.iloc[:450,:]\n",
    "test = y.iloc[450:,:]\n"
   ]
  },
  {
   "cell_type": "markdown",
   "id": "recorded-evolution",
   "metadata": {},
   "source": [
    "## Listing 19-4. Creating a basic Prophet model"
   ]
  },
  {
   "cell_type": "code",
   "execution_count": null,
   "id": "preliminary-latter",
   "metadata": {},
   "outputs": [],
   "source": [
    "from fbprophet import Prophet\n",
    "m = Prophet()\n",
    "m.fit(train)\n"
   ]
  },
  {
   "cell_type": "markdown",
   "id": "tested-protocol",
   "metadata": {},
   "source": [
    "## Listing 19-5. Creating a basic Prophet model"
   ]
  },
  {
   "cell_type": "code",
   "execution_count": null,
   "id": "general-labor",
   "metadata": {},
   "outputs": [],
   "source": [
    "future = m.make_future_dataframe(periods=len(test))\n",
    "forecast = m.predict(future)\n"
   ]
  },
  {
   "cell_type": "markdown",
   "id": "increasing-affair",
   "metadata": {},
   "source": [
    "## Listing 19-6. Creating a basic Prophet model"
   ]
  },
  {
   "cell_type": "code",
   "execution_count": null,
   "id": "loved-dealer",
   "metadata": {},
   "outputs": [],
   "source": [
    "from sklearn.metrics import r2_score\n",
    "print(r2_score(list(test['y']), list(forecast.loc[450:,'yhat'] )))\n"
   ]
  },
  {
   "cell_type": "markdown",
   "id": "positive-amendment",
   "metadata": {},
   "source": [
    "## Listing 19-7. Plotting the fit of the model"
   ]
  },
  {
   "cell_type": "code",
   "execution_count": null,
   "id": "offensive-channels",
   "metadata": {},
   "outputs": [],
   "source": [
    "import matplotlib.pyplot as plt\n",
    "plt.plot(list(test['y']))\n",
    "plt.plot(list(forecast.loc[450:,'yhat'] ))\n",
    "plt.show()\n"
   ]
  },
  {
   "cell_type": "markdown",
   "id": "communist-rugby",
   "metadata": {},
   "source": [
    "## Listing 19-8. Creating a Prophet forecast plot"
   ]
  },
  {
   "cell_type": "code",
   "execution_count": null,
   "id": "stunning-norwegian",
   "metadata": {},
   "outputs": [],
   "source": [
    "fig1 = m.plot(forecast)\n",
    "plt.show()\n"
   ]
  },
  {
   "cell_type": "markdown",
   "id": "duplicate-psychology",
   "metadata": {},
   "source": [
    "## Listing 19-9. Creating a Prophet decomposition plot"
   ]
  },
  {
   "cell_type": "code",
   "execution_count": null,
   "id": "arranged-south",
   "metadata": {},
   "outputs": [],
   "source": [
    "fig2 = m.plot_components(forecast)\n",
    "plt.show()\n"
   ]
  },
  {
   "cell_type": "markdown",
   "id": "therapeutic-demand",
   "metadata": {},
   "source": [
    "## Listing 19-10. Add montly seasonality to the plot"
   ]
  },
  {
   "cell_type": "code",
   "execution_count": null,
   "id": "rising-gallery",
   "metadata": {},
   "outputs": [],
   "source": [
    "m2 = Prophet()\n",
    "m2.add_seasonality(name='monthly', period=30.5, fourier_order=5)\n",
    "\n",
    "m2.fit(train)\n",
    "\n",
    "future2 = m2.make_future_dataframe(periods=len(test))\n",
    "forecast2 = m2.predict(future)\n",
    "print(r2_score(list(test['y']), list(forecast2.loc[450:,'yhat'] )))\n",
    "\n",
    "fig2 = m2.plot_components(forecast2)\n",
    "plt.show()\n"
   ]
  },
  {
   "cell_type": "markdown",
   "id": "magnetic-steel",
   "metadata": {},
   "source": [
    "## Listing 19-11. Prepare holidays data"
   ]
  },
  {
   "cell_type": "code",
   "execution_count": null,
   "id": "appropriate-freedom",
   "metadata": {},
   "outputs": [],
   "source": [
    "holidays = pd.read_csv('date_info.csv.zip')\n",
    "holidays = holidays[holidays['holiday_flg'] == 1]\n",
    "holidays = holidays[['calendar_date', 'holiday_flg']]\n",
    "holidays = holidays.drop(['holiday_flg'], axis=1)\n",
    "holidays['holiday'] = 'holiday'\n",
    "holidays.columns = ['ds', 'holiday']\n"
   ]
  },
  {
   "cell_type": "markdown",
   "id": "prostate-japan",
   "metadata": {},
   "source": [
    "## Listing 19-12. Add holidays to the model"
   ]
  },
  {
   "cell_type": "code",
   "execution_count": null,
   "id": "three-missile",
   "metadata": {},
   "outputs": [],
   "source": [
    "m3 = Prophet(holidays=holidays)\n",
    "m3.fit(train)\n",
    "future3 = m3.make_future_dataframe(periods=len(test))\n",
    "forecast3 = m3.predict(future)\n",
    "\n",
    "print(r2_score(list(test['y']), list(forecast3.loc[450:,'yhat'] )))\n",
    "\n",
    "fig2 = m3.plot_components(forecast3)\n",
    "plt.show()\n"
   ]
  },
  {
   "cell_type": "markdown",
   "id": "three-boutique",
   "metadata": {},
   "source": [
    "## Listing 19-13. Add reservations to the model"
   ]
  },
  {
   "cell_type": "code",
   "execution_count": null,
   "id": "catholic-liberty",
   "metadata": {},
   "outputs": [],
   "source": [
    "X_reservations = pd.read_csv('air_reserve.csv.zip')\n",
    "X_reservations['visit_date'] = pd.to_datetime(X_reservations['visit_datetime']).dt.date\n",
    "X_reservations = pd.DataFrame(X_reservations.groupby('visit_date')['reserve_visitors'].sum())\n",
    "X_reservations = X_reservations.reset_index(drop = False)\n",
    "train4 = train.copy()\n",
    "train4['ds'] = pd.to_datetime(train4['ds']).dt.date\n",
    "train4 = train4.merge(X_reservations, left_on = 'ds', right_on = 'visit_date', how = 'left')[['ds', 'y', 'reserve_visitors']].fillna(0)\n"
   ]
  },
  {
   "cell_type": "markdown",
   "id": "solid-leeds",
   "metadata": {},
   "source": [
    "## Listing 19-14. Add reservations to the model"
   ]
  },
  {
   "cell_type": "code",
   "execution_count": null,
   "id": "burning-andrews",
   "metadata": {},
   "outputs": [],
   "source": [
    "m4 = Prophet()\n",
    "m4.add_regressor('reserve_visitors')\n",
    "m4.fit(train4)\n",
    "future4 = m4.make_future_dataframe(periods=len(test))\n",
    "future4['ds'] = pd.to_datetime(future4['ds']).dt.date\n",
    "\n",
    "future4 = future4.merge(X_reservations, left_on = 'ds', right_on = 'visit_date', how = 'left')[['ds', 'reserve_visitors']].fillna(0)\n",
    "\n",
    "forecast4 = m4.predict(future4)\n",
    "\n",
    "print(r2_score(list(test['y']), list(forecast4.loc[450:,'yhat'] )))\n",
    "\n",
    "plt.plot(list(test['y']))\n",
    "plt.plot(list(forecast4.loc[450:,'yhat'] ))\n",
    "\n",
    "fig2 = m4.plot_components(forecast4)\n",
    "plt.show()\n"
   ]
  },
  {
   "cell_type": "markdown",
   "id": "comparative-wrist",
   "metadata": {},
   "source": [
    "## Listing 19-15. Grid Searching the Prophet"
   ]
  },
  {
   "cell_type": "code",
   "execution_count": null,
   "id": "continuous-messenger",
   "metadata": {},
   "outputs": [],
   "source": [
    "def model_test(holidays, weekly_seasonality,\n",
    "yearly_seasonality, add_monthly, add_reserve, changepoint_prior_scale, holidays_prior_scale, month_fourier):\n",
    "    \n",
    "    m4 = Prophet(\n",
    "yearly_seasonality=yearly_seasonality, \n",
    "weekly_seasonality=weekly_seasonality, \n",
    "holidays=holidays, \n",
    "changepoint_prior_scale=changepoint_prior_scale, \n",
    "holidays_prior_scale=holidays_prior_scale)\n",
    "    \n",
    "    if add_monthly:    \n",
    "        m4.add_seasonality(\n",
    "name='monthly', \n",
    "period=30.5, \n",
    "fourier_order=month_fourier)\n",
    "    \n",
    "    if add_reserve:\n",
    "        m4.add_regressor('reserve_visitors')\n",
    "\n",
    "    m4.fit(train4)\n",
    "\n",
    "    future4 = m4.make_future_dataframe(periods=len(test))\n",
    "\n",
    "    future4['ds'] = pd.to_datetime(future4['ds']).dt.date\n",
    "    \n",
    "    if add_reserve:\n",
    "        future4 = future4.merge(\n",
    "X_reservations, \n",
    "left_on = 'ds', \n",
    "right_on = 'visit_date', \n",
    "how = 'left')\n",
    "   future4 = future4[['ds', 'reserve_visitors']]\n",
    "   future4 = future4.fillna(0)\n",
    "\n",
    "    forecast4 = m4.predict(future4)\n",
    "\n",
    "    return r2_score(\n",
    "list(test['y']),\n",
    "list(forecast4.loc[450:,'yhat'] )) \n",
    "# Setting the grid\n",
    "holidays_opt = [holidays, None]\n",
    "weekly_seas = [ 5, 10, 30, 50]\n",
    "yearly_seas = [ 5, 10, 30, 50]\n",
    "add_monthly = [True, False]\n",
    "add_reserve = [True, False]\n",
    "changepoint_prior_scale = [0.1, 0.3, 0.5]\n",
    "holidays_prior_scale = [0.1, 0.3, 0.5]\n",
    "month_fourier = [5, 10, 30, 50]\n",
    "\n",
    "# Looping through the grid\n",
    "grid_results = []\n",
    "for h in holidays_opt:\n",
    "  for w in weekly_seas:\n",
    "    for ys in yearly_seas:\n",
    "      for m in add_monthly:\n",
    "        for r in add_reserve:\n",
    "           for c in changepoint_prior_scale:\n",
    "             for hp in holidays_prior_scale:\n",
    "               for mf in month_fourier:\n",
    "                  r2=model_test(h,w,ys,m,r,c,hp,mf)\n",
    "                  print([w,ys,m,r,c,hp,mf,r2])\n",
    "                  grid_results.append([h,w,ys,m,r,c,hp,mf,r2])\n",
    "\n",
    "# adding it all to a dataframe and extract the best model\n",
    "benchmark = pd.DataFrame(grid_results)\n",
    "benchmark = benchmark.sort_values(8, ascending=False)\n",
    "\n",
    "h, w,ys, m, r, c,hp,mf,r2 = list(benchmark.iloc[0,:])\n",
    "\n",
    "# Fit the Prophet with those best hyperparameters\n",
    "m4 = Prophet(\n",
    "yearly_seasonality=ys, \n",
    "weekly_seasonality=w, \n",
    "holidays=h, \n",
    "changepoint_prior_scale=c, \n",
    "holidays_prior_scale=hp)\n",
    "    \n",
    "if m:    \n",
    "    m4.add_seasonality(\n",
    "name='monthly', \n",
    "period=30.5, \n",
    "fourier_order=mf)\n",
    "\n",
    "if r:\n",
    "    m4.add_regressor('reserve_visitors')\n",
    "\n",
    "m4.fit(train4)\n",
    "\n",
    "future4 = m4.make_future_dataframe(periods=len(test))\n",
    "\n",
    "future4['ds'] = pd.to_datetime(future4['ds']).dt.date\n",
    "\n",
    "if r:\n",
    "    future4 = future4.merge(\n",
    "X_reservations, \n",
    "left_on = 'ds', \n",
    "right_on = 'visit_date', \n",
    "how = 'left')\n",
    "    future4 = future4[['ds', 'reserve_visitors']]\n",
    "    future4 = future4.fillna(0)\n",
    "\n",
    "forecast4 = m4.predict(future4)\n"
   ]
  }
 ],
 "metadata": {
  "kernelspec": {
   "display_name": "Python 3",
   "language": "python",
   "name": "python3"
  },
  "language_info": {
   "codemirror_mode": {
    "name": "ipython",
    "version": 3
   },
   "file_extension": ".py",
   "mimetype": "text/x-python",
   "name": "python",
   "nbconvert_exporter": "python",
   "pygments_lexer": "ipython3",
   "version": "3.6.13"
  }
 },
 "nbformat": 4,
 "nbformat_minor": 5
}
